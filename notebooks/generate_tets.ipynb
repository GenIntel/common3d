{
 "cells": [
  {
   "metadata": {},
   "cell_type": "raw",
   "source": "",
   "id": "68a41bd2cc2f0dc8"
  },
  {
   "cell_type": "code",
   "id": "initial_id",
   "metadata": {
    "collapsed": true,
    "ExecuteTime": {
     "end_time": "2024-09-10T10:21:07.463317Z",
     "start_time": "2024-09-10T10:21:07.394432Z"
    }
   },
   "source": [
    "import numpy as np\n",
    "\n",
    "def convert_from_quartet_to_npz(quartetfile = 'cube_32_tet.tet', npzfile = '32_tets'):\n",
    "\n",
    "    file1 = open(quartetfile, 'r')\n",
    "    header = file1.readline()\n",
    "    numvertices = int(header.split(\" \")[1])\n",
    "    numtets     = int(header.split(\" \")[2])\n",
    "    print(numvertices, numtets)\n",
    "\n",
    "    # load vertices\n",
    "    vertices = np.loadtxt(quartetfile, skiprows=1, max_rows=numvertices, dtype=float)\n",
    "    vertices = vertices - 0.5\n",
    "    print(vertices.shape)\n",
    "\n",
    "    # load indices\n",
    "    indices = np.loadtxt(quartetfile, dtype=int, skiprows=1+numvertices, max_rows=numtets)\n",
    "    print(indices.shape)\n",
    "\n",
    "    np.savez_compressed(npzfile, vertices=vertices, indices=indices)\n",
    "    \n",
    "convert_from_quartet_to_npz(quartetfile=\"/home/sommerl/tmp/quartet/tets2/cube_32.tet\", npzfile = '32_tets')"
   ],
   "outputs": [
    {
     "name": "stdout",
     "output_type": "stream",
     "text": [
      "6641 30136\n",
      "(6641, 3)\n",
      "(30136, 4)\n"
     ]
    }
   ],
   "execution_count": 35
  },
  {
   "metadata": {
    "ExecuteTime": {
     "end_time": "2024-09-10T11:58:05.819719Z",
     "start_time": "2024-09-10T11:58:05.725357Z"
    }
   },
   "cell_type": "code",
   "source": [
    "#a = np.load(\"16_tets.npz\")\n",
    "a = np.load(\"/home/sommerl/PycharmProjects/od3d/src/od3d/cv/geometry/objects3d/dmtet_x_gaussians/256_tets.npz\")\n",
    "a['vertices'].shape # 120, 742, 6641, 36562, 277410, 2158402"
   ],
   "id": "c146789c265cb160",
   "outputs": [
    {
     "data": {
      "text/plain": [
       "(2158402, 3)"
      ]
     },
     "execution_count": 50,
     "metadata": {},
     "output_type": "execute_result"
    }
   ],
   "execution_count": 50
  },
  {
   "metadata": {
    "ExecuteTime": {
     "end_time": "2024-09-10T11:52:45.441495Z",
     "start_time": "2024-09-10T11:52:45.162206Z"
    }
   },
   "cell_type": "code",
   "source": "#a['vertices'].max()\n",
   "id": "892e932df2cc84b4",
   "outputs": [
    {
     "ename": "BadZipFile",
     "evalue": "Bad CRC-32 for file 'vertices.npy'",
     "output_type": "error",
     "traceback": [
      "\u001B[0;31m---------------------------------------------------------------------------\u001B[0m",
      "\u001B[0;31mBadZipFile\u001B[0m                                Traceback (most recent call last)",
      "Cell \u001B[0;32mIn[38], line 2\u001B[0m\n\u001B[1;32m      1\u001B[0m \u001B[38;5;66;03m#a['vertices'].max()\u001B[39;00m\n\u001B[0;32m----> 2\u001B[0m \u001B[43ma\u001B[49m\u001B[43m[\u001B[49m\u001B[38;5;124;43m'\u001B[39;49m\u001B[38;5;124;43mvertices\u001B[39;49m\u001B[38;5;124;43m'\u001B[39;49m\u001B[43m]\u001B[49m\u001B[38;5;241m.\u001B[39mshape\n",
      "File \u001B[0;32m~/PycharmProjects/od3d/venv_od3d/lib/python3.10/site-packages/numpy/lib/npyio.py:253\u001B[0m, in \u001B[0;36mNpzFile.__getitem__\u001B[0;34m(self, key)\u001B[0m\n\u001B[1;32m    251\u001B[0m \u001B[38;5;28;01mif\u001B[39;00m magic \u001B[38;5;241m==\u001B[39m \u001B[38;5;28mformat\u001B[39m\u001B[38;5;241m.\u001B[39mMAGIC_PREFIX:\n\u001B[1;32m    252\u001B[0m     \u001B[38;5;28mbytes\u001B[39m \u001B[38;5;241m=\u001B[39m \u001B[38;5;28mself\u001B[39m\u001B[38;5;241m.\u001B[39mzip\u001B[38;5;241m.\u001B[39mopen(key)\n\u001B[0;32m--> 253\u001B[0m     \u001B[38;5;28;01mreturn\u001B[39;00m \u001B[38;5;28;43mformat\u001B[39;49m\u001B[38;5;241;43m.\u001B[39;49m\u001B[43mread_array\u001B[49m\u001B[43m(\u001B[49m\u001B[38;5;28;43mbytes\u001B[39;49m\u001B[43m,\u001B[49m\n\u001B[1;32m    254\u001B[0m \u001B[43m                             \u001B[49m\u001B[43mallow_pickle\u001B[49m\u001B[38;5;241;43m=\u001B[39;49m\u001B[38;5;28;43mself\u001B[39;49m\u001B[38;5;241;43m.\u001B[39;49m\u001B[43mallow_pickle\u001B[49m\u001B[43m,\u001B[49m\n\u001B[1;32m    255\u001B[0m \u001B[43m                             \u001B[49m\u001B[43mpickle_kwargs\u001B[49m\u001B[38;5;241;43m=\u001B[39;49m\u001B[38;5;28;43mself\u001B[39;49m\u001B[38;5;241;43m.\u001B[39;49m\u001B[43mpickle_kwargs\u001B[49m\u001B[43m,\u001B[49m\n\u001B[1;32m    256\u001B[0m \u001B[43m                             \u001B[49m\u001B[43mmax_header_size\u001B[49m\u001B[38;5;241;43m=\u001B[39;49m\u001B[38;5;28;43mself\u001B[39;49m\u001B[38;5;241;43m.\u001B[39;49m\u001B[43mmax_header_size\u001B[49m\u001B[43m)\u001B[49m\n\u001B[1;32m    257\u001B[0m \u001B[38;5;28;01melse\u001B[39;00m:\n\u001B[1;32m    258\u001B[0m     \u001B[38;5;28;01mreturn\u001B[39;00m \u001B[38;5;28mself\u001B[39m\u001B[38;5;241m.\u001B[39mzip\u001B[38;5;241m.\u001B[39mread(key)\n",
      "File \u001B[0;32m~/PycharmProjects/od3d/venv_od3d/lib/python3.10/site-packages/numpy/lib/format.py:812\u001B[0m, in \u001B[0;36mread_array\u001B[0;34m(fp, allow_pickle, pickle_kwargs, max_header_size)\u001B[0m\n\u001B[1;32m    810\u001B[0m             read_count \u001B[38;5;241m=\u001B[39m \u001B[38;5;28mmin\u001B[39m(max_read_count, count \u001B[38;5;241m-\u001B[39m i)\n\u001B[1;32m    811\u001B[0m             read_size \u001B[38;5;241m=\u001B[39m \u001B[38;5;28mint\u001B[39m(read_count \u001B[38;5;241m*\u001B[39m dtype\u001B[38;5;241m.\u001B[39mitemsize)\n\u001B[0;32m--> 812\u001B[0m             data \u001B[38;5;241m=\u001B[39m \u001B[43m_read_bytes\u001B[49m\u001B[43m(\u001B[49m\u001B[43mfp\u001B[49m\u001B[43m,\u001B[49m\u001B[43m \u001B[49m\u001B[43mread_size\u001B[49m\u001B[43m,\u001B[49m\u001B[43m \u001B[49m\u001B[38;5;124;43m\"\u001B[39;49m\u001B[38;5;124;43marray data\u001B[39;49m\u001B[38;5;124;43m\"\u001B[39;49m\u001B[43m)\u001B[49m\n\u001B[1;32m    813\u001B[0m             array[i:i\u001B[38;5;241m+\u001B[39mread_count] \u001B[38;5;241m=\u001B[39m numpy\u001B[38;5;241m.\u001B[39mfrombuffer(data, dtype\u001B[38;5;241m=\u001B[39mdtype,\n\u001B[1;32m    814\u001B[0m                                                      count\u001B[38;5;241m=\u001B[39mread_count)\n\u001B[1;32m    816\u001B[0m \u001B[38;5;28;01mif\u001B[39;00m fortran_order:\n",
      "File \u001B[0;32m~/PycharmProjects/od3d/venv_od3d/lib/python3.10/site-packages/numpy/lib/format.py:947\u001B[0m, in \u001B[0;36m_read_bytes\u001B[0;34m(fp, size, error_template)\u001B[0m\n\u001B[1;32m    942\u001B[0m \u001B[38;5;28;01mwhile\u001B[39;00m \u001B[38;5;28;01mTrue\u001B[39;00m:\n\u001B[1;32m    943\u001B[0m     \u001B[38;5;66;03m# io files (default in python3) return None or raise on\u001B[39;00m\n\u001B[1;32m    944\u001B[0m     \u001B[38;5;66;03m# would-block, python2 file will truncate, probably nothing can be\u001B[39;00m\n\u001B[1;32m    945\u001B[0m     \u001B[38;5;66;03m# done about that.  note that regular files can't be non-blocking\u001B[39;00m\n\u001B[1;32m    946\u001B[0m     \u001B[38;5;28;01mtry\u001B[39;00m:\n\u001B[0;32m--> 947\u001B[0m         r \u001B[38;5;241m=\u001B[39m \u001B[43mfp\u001B[49m\u001B[38;5;241;43m.\u001B[39;49m\u001B[43mread\u001B[49m\u001B[43m(\u001B[49m\u001B[43msize\u001B[49m\u001B[43m \u001B[49m\u001B[38;5;241;43m-\u001B[39;49m\u001B[43m \u001B[49m\u001B[38;5;28;43mlen\u001B[39;49m\u001B[43m(\u001B[49m\u001B[43mdata\u001B[49m\u001B[43m)\u001B[49m\u001B[43m)\u001B[49m\n\u001B[1;32m    948\u001B[0m         data \u001B[38;5;241m+\u001B[39m\u001B[38;5;241m=\u001B[39m r\n\u001B[1;32m    949\u001B[0m         \u001B[38;5;28;01mif\u001B[39;00m \u001B[38;5;28mlen\u001B[39m(r) \u001B[38;5;241m==\u001B[39m \u001B[38;5;241m0\u001B[39m \u001B[38;5;129;01mor\u001B[39;00m \u001B[38;5;28mlen\u001B[39m(data) \u001B[38;5;241m==\u001B[39m size:\n",
      "File \u001B[0;32m/usr/lib/python3.10/zipfile.py:929\u001B[0m, in \u001B[0;36mZipExtFile.read\u001B[0;34m(self, n)\u001B[0m\n\u001B[1;32m    927\u001B[0m \u001B[38;5;28mself\u001B[39m\u001B[38;5;241m.\u001B[39m_offset \u001B[38;5;241m=\u001B[39m \u001B[38;5;241m0\u001B[39m\n\u001B[1;32m    928\u001B[0m \u001B[38;5;28;01mwhile\u001B[39;00m n \u001B[38;5;241m>\u001B[39m \u001B[38;5;241m0\u001B[39m \u001B[38;5;129;01mand\u001B[39;00m \u001B[38;5;129;01mnot\u001B[39;00m \u001B[38;5;28mself\u001B[39m\u001B[38;5;241m.\u001B[39m_eof:\n\u001B[0;32m--> 929\u001B[0m     data \u001B[38;5;241m=\u001B[39m \u001B[38;5;28;43mself\u001B[39;49m\u001B[38;5;241;43m.\u001B[39;49m\u001B[43m_read1\u001B[49m\u001B[43m(\u001B[49m\u001B[43mn\u001B[49m\u001B[43m)\u001B[49m\n\u001B[1;32m    930\u001B[0m     \u001B[38;5;28;01mif\u001B[39;00m n \u001B[38;5;241m<\u001B[39m \u001B[38;5;28mlen\u001B[39m(data):\n\u001B[1;32m    931\u001B[0m         \u001B[38;5;28mself\u001B[39m\u001B[38;5;241m.\u001B[39m_readbuffer \u001B[38;5;241m=\u001B[39m data\n",
      "File \u001B[0;32m/usr/lib/python3.10/zipfile.py:1019\u001B[0m, in \u001B[0;36mZipExtFile._read1\u001B[0;34m(self, n)\u001B[0m\n\u001B[1;32m   1017\u001B[0m \u001B[38;5;28;01mif\u001B[39;00m \u001B[38;5;28mself\u001B[39m\u001B[38;5;241m.\u001B[39m_left \u001B[38;5;241m<\u001B[39m\u001B[38;5;241m=\u001B[39m \u001B[38;5;241m0\u001B[39m:\n\u001B[1;32m   1018\u001B[0m     \u001B[38;5;28mself\u001B[39m\u001B[38;5;241m.\u001B[39m_eof \u001B[38;5;241m=\u001B[39m \u001B[38;5;28;01mTrue\u001B[39;00m\n\u001B[0;32m-> 1019\u001B[0m \u001B[38;5;28;43mself\u001B[39;49m\u001B[38;5;241;43m.\u001B[39;49m\u001B[43m_update_crc\u001B[49m\u001B[43m(\u001B[49m\u001B[43mdata\u001B[49m\u001B[43m)\u001B[49m\n\u001B[1;32m   1020\u001B[0m \u001B[38;5;28;01mreturn\u001B[39;00m data\n",
      "File \u001B[0;32m/usr/lib/python3.10/zipfile.py:947\u001B[0m, in \u001B[0;36mZipExtFile._update_crc\u001B[0;34m(self, newdata)\u001B[0m\n\u001B[1;32m    945\u001B[0m \u001B[38;5;66;03m# Check the CRC if we're at the end of the file\u001B[39;00m\n\u001B[1;32m    946\u001B[0m \u001B[38;5;28;01mif\u001B[39;00m \u001B[38;5;28mself\u001B[39m\u001B[38;5;241m.\u001B[39m_eof \u001B[38;5;129;01mand\u001B[39;00m \u001B[38;5;28mself\u001B[39m\u001B[38;5;241m.\u001B[39m_running_crc \u001B[38;5;241m!=\u001B[39m \u001B[38;5;28mself\u001B[39m\u001B[38;5;241m.\u001B[39m_expected_crc:\n\u001B[0;32m--> 947\u001B[0m     \u001B[38;5;28;01mraise\u001B[39;00m BadZipFile(\u001B[38;5;124m\"\u001B[39m\u001B[38;5;124mBad CRC-32 for file \u001B[39m\u001B[38;5;132;01m%r\u001B[39;00m\u001B[38;5;124m\"\u001B[39m \u001B[38;5;241m%\u001B[39m \u001B[38;5;28mself\u001B[39m\u001B[38;5;241m.\u001B[39mname)\n",
      "\u001B[0;31mBadZipFile\u001B[0m: Bad CRC-32 for file 'vertices.npy'"
     ]
    }
   ],
   "execution_count": 38
  }
 ],
 "metadata": {
  "kernelspec": {
   "display_name": "Python 3",
   "language": "python",
   "name": "python3"
  },
  "language_info": {
   "codemirror_mode": {
    "name": "ipython",
    "version": 2
   },
   "file_extension": ".py",
   "mimetype": "text/x-python",
   "name": "python",
   "nbconvert_exporter": "python",
   "pygments_lexer": "ipython2",
   "version": "2.7.6"
  }
 },
 "nbformat": 4,
 "nbformat_minor": 5
}
