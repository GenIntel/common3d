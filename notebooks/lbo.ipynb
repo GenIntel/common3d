{
 "cells": [
  {
   "cell_type": "code",
   "execution_count": null,
   "id": "initial_id",
   "metadata": {
    "collapsed": true
   },
   "outputs": [],
   "source": [
    ""
   ]
  },
  {
   "metadata": {
    "ExecuteTime": {
     "end_time": "2024-09-11T12:14:44.745312Z",
     "start_time": "2024-09-11T12:14:44.731153Z"
    }
   },
   "cell_type": "code",
   "source": [
    "import torch\n",
    "from torch_geometric.data import Data\n",
    "from torch_geometric.utils import get_mesh_laplacian\n",
    "# 3 x F (4)\n",
    "# N x 3\n",
    "face = torch.tensor([[0, 2, 3, 0], [1, 1, 2, 2], [2, 4, 4, 3]], dtype=torch.long)\n",
    "pos = torch.tensor([[0, 1, 0], [1, 0, 0], [1, 1, 0], [1, 2, 0], [2, 1, 0]], dtype=torch.float)\n",
    "\n",
    "data = Data(pos=pos, face=face)\n",
    "edge_index, edge_weights = get_mesh_laplacian(data.pos, data.face)\n",
    "row, col = edge_index\n",
    "\n",
    "row_wise_sum = scatter_add(edge_weights, row, dim=0, dim_size=5)"
   ],
   "id": "1c88513ffaf6be55",
   "outputs": [],
   "execution_count": 3
  },
  {
   "metadata": {
    "ExecuteTime": {
     "end_time": "2024-09-11T12:19:15.008665Z",
     "start_time": "2024-09-11T12:19:15.001105Z"
    }
   },
   "cell_type": "code",
   "source": "edge_weights.shape",
   "id": "7caa458e0ee1991c",
   "outputs": [
    {
     "data": {
      "text/plain": [
       "torch.Size([21])"
      ]
     },
     "execution_count": 8,
     "metadata": {},
     "output_type": "execute_result"
    }
   ],
   "execution_count": 8
  },
  {
   "metadata": {},
   "cell_type": "code",
   "outputs": [],
   "execution_count": null,
   "source": "",
   "id": "888f03e46784eaa6"
  },
  {
   "metadata": {
    "ExecuteTime": {
     "end_time": "2024-09-11T12:44:20.027079Z",
     "start_time": "2024-09-11T12:44:05.604624Z"
    }
   },
   "cell_type": "code",
   "source": [
    "\n",
    "\n",
    "\n",
    "\n"
   ],
   "id": "31f3da3b87d8f273",
   "outputs": [
    {
     "name": "stderr",
     "output_type": "stream",
     "text": [
      "100%|██████████| 60/60 [00:03<00:00, 19.01it/s]\n",
      "OpenCV: FFMPEG: tag 0x30395056/'VP90' is not supported with codec id 167 and format 'webm / WebM'\n",
      "100%|██████████| 60/60 [00:06<00:00,  8.63it/s]\n"
     ]
    },
    {
     "data": {
      "text/plain": [
       "0"
      ]
     },
     "execution_count": 28,
     "metadata": {},
     "output_type": "execute_result"
    }
   ],
   "execution_count": 28
  },
  {
   "metadata": {
    "ExecuteTime": {
     "end_time": "2024-09-11T12:43:38.736055Z",
     "start_time": "2024-09-11T12:43:38.727156Z"
    }
   },
   "cell_type": "code",
   "source": "",
   "id": "4d9a2b8823ab5621",
   "outputs": [
    {
     "data": {
      "text/plain": [
       "tensor(0.1873)"
      ]
     },
     "execution_count": 27,
     "metadata": {},
     "output_type": "execute_result"
    }
   ],
   "execution_count": 27
  },
  {
   "metadata": {
    "ExecuteTime": {
     "end_time": "2024-09-11T16:37:08.728672Z",
     "start_time": "2024-09-11T16:37:05.081773Z"
    }
   },
   "cell_type": "code",
   "source": [
    "import torch\n",
    "from pytorch3d.ops import cot_laplacian\n",
    "from od3d.cv.geometry.objects3d.meshes import Meshes\n",
    "from od3d.cv.visual.show import show_scene\n",
    "from pathlib import Path\n",
    "\n",
    "bunny = Meshes.load_by_name('sphere')\n",
    "bunny.verts = bunny.verts * 20\n",
    "# (verts: Tensor, faces: Tensor, eps: float = 1e-12)\n",
    "# cot_laplacian\n",
    "l, inv_face_areas = cot_laplacian(verts=bunny.verts.cuda(), faces=bunny.faces.cuda())\n",
    "l = l / 2.\n",
    "\n",
    "l_dense = l.to_dense()\n",
    "row_sum = -l_dense.sum(dim=-1)\n",
    "l_dense = torch.diagonal_scatter(input=l_dense, src=row_sum)\n",
    "l = l_dense.to_sparse_coo()\n",
    "\n",
    "# normalize symmetric\n",
    "#inv_face_areas = (inv_face_areas ** 0.5)\n",
    "#l = inv_face_areas * l * inv_face_areas.T \n",
    "\n",
    "# normalize row wise\n",
    "l = inv_face_areas * l"
   ],
   "id": "babb9062f4a82108",
   "outputs": [
    {
     "name": "stdout",
     "output_type": "stream",
     "text": [
      "Jupyter environment detected. Enabling Open3D WebVisualizer.\n",
      "[Open3D INFO] WebRTC GUI backend enabled.\n",
      "[Open3D INFO] WebRTCWindowSystem: HTTP handshake server disabled.\n"
     ]
    }
   ],
   "execution_count": 1
  },
  {
   "metadata": {
    "ExecuteTime": {
     "end_time": "2024-09-11T16:37:54.322731Z",
     "start_time": "2024-09-11T16:37:50.658540Z"
    }
   },
   "cell_type": "code",
   "source": [
    "\n",
    "import torch\n",
    "vals, vects = torch.lobpcg(l.cuda(), k=3, largest=True)\n",
    "#vects = vects[:, 3:6]\n",
    "# https://github.com/pyg-team/pytorch_geometric/issues/6037\n",
    "# https://www.sciencedirect.com/science/article/pii/S0097849309000272\n",
    "# Discrete Laplace-Beltrami Operators for Shape Analysis and Segmentation 2009 \n",
    "\n",
    "#l_dense_norm = l.clone().to_dense()\n",
    "#l_dense_norm = l_dense_norm / l_dense_norm.norm(dim=-1, keepdim=True)\n",
    "\n",
    "#rgb = torch.mm(l.T, vects).clamp(0, 1)\n",
    "#rgb = (rgb + 1) / 2.\n",
    "#rgb = rgb.softmax(dim=-1)\n",
    "#vects[:, 1:] = 0.\n",
    "#rgb = (vects * 10).softmax(dim=0)\n",
    "rgb = (((vects / vects.abs().max(dim=0, keepdim=True)[0]) + 1.) / 2.).clamp(0, 1)\n",
    "bunny.rgb = torch.nn.Parameter(rgb)\n",
    "show_scene(meshes=bunny, fpath=Path('bunny.webm'), viewpoints_count=10, fps=1, return_visualization=False)"
   ],
   "id": "ad7d165b00510b63",
   "outputs": [
    {
     "name": "stderr",
     "output_type": "stream",
     "text": [
      "100%|██████████| 10/10 [00:00<00:00, 27.07it/s]\n",
      "OpenCV: FFMPEG: tag 0x30395056/'VP90' is not supported with codec id 167 and format 'webm / WebM'\n",
      "100%|██████████| 10/10 [00:00<00:00, 26.91it/s]\n"
     ]
    },
    {
     "data": {
      "text/plain": [
       "0"
      ]
     },
     "execution_count": 3,
     "metadata": {},
     "output_type": "execute_result"
    }
   ],
   "execution_count": 3
  },
  {
   "metadata": {
    "ExecuteTime": {
     "end_time": "2024-09-12T08:16:30.893310Z",
     "start_time": "2024-09-12T08:16:30.824681Z"
    }
   },
   "cell_type": "code",
   "source": [
    "import torch\n",
    "from pytorch3d.ops import cot_laplacian\n",
    "from od3d.cv.geometry.objects3d.meshes import Meshes\n",
    "from od3d.cv.visual.show import show_scene\n",
    "from pathlib import Path\n",
    "\n",
    "bunny = Meshes.load_by_name('bunny')\n",
    "bunny.cuda()\n",
    "bunny.verts = bunny.verts * 20\n",
    "bunny.verts = bunny.verts - bunny.verts.mean(dim=0, keepdim=True)"
   ],
   "id": "4f9e4992d69150f7",
   "outputs": [],
   "execution_count": 15
  },
  {
   "metadata": {
    "ExecuteTime": {
     "end_time": "2024-09-12T08:17:50.886673Z",
     "start_time": "2024-09-12T08:17:50.865526Z"
    }
   },
   "cell_type": "code",
   "source": "\n",
   "id": "7e3fa4c5777886",
   "outputs": [],
   "execution_count": 19
  },
  {
   "metadata": {
    "ExecuteTime": {
     "end_time": "2024-09-12T08:33:21.987101Z",
     "start_time": "2024-09-12T08:33:15.001691Z"
    }
   },
   "cell_type": "code",
   "source": [
    "from pytorch3d.ops import sample_farthest_points\n",
    "from pytorch3d.structures import Pointclouds\n",
    "pts_vals, pts_inds = sample_farthest_points(points=bunny.verts[None,], K=30)\n",
    "pts_vals = pts_vals[0]\n",
    "pts_inds = pts_inds[0]\n",
    "\n",
    "dist_pts = torch.cdist(bunny.verts, pts_vals) # N x K torch.ones(N, N) * torch.inf\n",
    "# linear\n",
    "# dist_max = dist_pts.max()\n",
    "# label_smooth = (1. - (dist_pts / dist_max)) # N x K\n",
    "# label_smooth = label_smooth / label_smooth.norm(dim=-1, keepdim=True)\n",
    "\n",
    "# gaussian\n",
    "dist_nearest_std_factor = 1\n",
    "dist_nearest_std = (dist_pts**2).min(dim=1, keepdim=True)[0].mean() ** 0.5\n",
    "label_smooth = (-dist_pts**2 / ((dist_nearest_std_factor * dist_nearest_std)**2)).softmax(dim=-1) # N x K\n",
    "\n",
    "bunny.rgb = torch.nn.Parameter(label_smooth[:, :3])\n",
    "show_scene(meshes=bunny, fpath=Path('bunny.webm'), viewpoints_count=30, fps=3, return_visualization=False)"
   ],
   "id": "9ff84129193a1e21",
   "outputs": [
    {
     "name": "stderr",
     "output_type": "stream",
     "text": [
      "100%|██████████| 30/30 [00:01<00:00, 17.24it/s]\n",
      "OpenCV: FFMPEG: tag 0x30395056/'VP90' is not supported with codec id 167 and format 'webm / WebM'\n",
      "100%|██████████| 30/30 [00:01<00:00, 16.55it/s]\n"
     ]
    },
    {
     "data": {
      "text/plain": [
       "0"
      ]
     },
     "execution_count": 28,
     "metadata": {},
     "output_type": "execute_result"
    }
   ],
   "execution_count": 28
  },
  {
   "metadata": {
    "ExecuteTime": {
     "end_time": "2024-09-12T08:16:38.543456Z",
     "start_time": "2024-09-12T08:16:36.122436Z"
    }
   },
   "cell_type": "code",
   "source": "",
   "id": "e6747b62279eeae8",
   "outputs": [
    {
     "name": "stderr",
     "output_type": "stream",
     "text": [
      "100%|██████████| 10/10 [00:00<00:00, 17.71it/s]\n",
      "OpenCV: FFMPEG: tag 0x30395056/'VP90' is not supported with codec id 167 and format 'webm / WebM'\n",
      "100%|██████████| 10/10 [00:00<00:00, 24.52it/s]\n"
     ]
    },
    {
     "data": {
      "text/plain": [
       "0"
      ]
     },
     "execution_count": 18,
     "metadata": {},
     "output_type": "execute_result"
    }
   ],
   "execution_count": 18
  },
  {
   "metadata": {},
   "cell_type": "code",
   "outputs": [],
   "execution_count": null,
   "source": "",
   "id": "877f2ea3a8be4a63"
  },
  {
   "metadata": {
    "ExecuteTime": {
     "end_time": "2024-09-12T07:45:45.415312Z",
     "start_time": "2024-09-12T07:45:45.408082Z"
    }
   },
   "cell_type": "code",
   "source": "pts_vals.shape",
   "id": "8bc861685fedf1a",
   "outputs": [
    {
     "data": {
      "text/plain": [
       "torch.Size([3, 3])"
      ]
     },
     "execution_count": 15,
     "metadata": {},
     "output_type": "execute_result"
    }
   ],
   "execution_count": 15
  },
  {
   "metadata": {
    "ExecuteTime": {
     "end_time": "2024-09-12T07:26:54.847069Z",
     "start_time": "2024-09-12T07:26:52.804753Z"
    }
   },
   "cell_type": "code",
   "source": [
    "N = bunny.verts.shape[0]\n",
    "dist = torch.ones((N, N)).cuda() * torch.inf\n",
    "dist_step = torch.cdist(bunny.verts, bunny.verts) #  torch.ones(N, N) * torch.inf\n",
    "#for i in range(N):\n",
    "dist = bunny.get_geodesic_dist()\n",
    "\n",
    "bunny.faces.shape"
   ],
   "id": "86bdae72d4b40be3",
   "outputs": [
    {
     "data": {
      "text/plain": [
       "torch.Size([69451, 3])"
      ]
     },
     "execution_count": 2,
     "metadata": {},
     "output_type": "execute_result"
    }
   ],
   "execution_count": 2
  },
  {
   "metadata": {
    "ExecuteTime": {
     "end_time": "2024-09-12T07:26:54.852859Z",
     "start_time": "2024-09-12T07:26:54.848582Z"
    }
   },
   "cell_type": "code",
   "source": [
    "e01 = torch.stack([bunny.faces[:, 0], bunny.faces[:, 1]], dim=1)  # (sum(F_n), 2)\n",
    "e12 = torch.stack([bunny.faces[:, 1], bunny.faces[:, 2]], dim=1)  # (sum(F_n), 2)\n",
    "e20 = torch.stack([bunny.faces[:, 2], bunny.faces[:, 0]], dim=1)  # (sum(F_n), 2)\n",
    "\n",
    "# All edges including duplicates.\n",
    "edges = torch.cat([e12, e20, e01], dim=0)  # (sum(F_n)*3, 2)\n"
   ],
   "id": "33f54c6808abd62a",
   "outputs": [],
   "execution_count": 3
  },
  {
   "metadata": {
    "ExecuteTime": {
     "end_time": "2024-09-12T07:27:55.846277Z",
     "start_time": "2024-09-12T07:27:55.390051Z"
    }
   },
   "cell_type": "code",
   "source": [
    "from od3d.cv.select import batched_indexMD_fill\n",
    "connected = torch.zeros((N, N), dtype=bool).cuda()\n",
    "connected[edges[:, 0], edges[:, 1]] = True\n",
    "dist_step[~connected] = torch.inf\n",
    "#fill_vals = torch.ones((N,)).cuda()\n",
    "#connected = batched_indexMD_fill(inputMD=connected, indexMD=edges, value=fill_vals)\n"
   ],
   "id": "bc66dd33b0b0c6dc",
   "outputs": [],
   "execution_count": 7
  },
  {
   "metadata": {
    "ExecuteTime": {
     "end_time": "2024-09-12T07:28:58.204232Z",
     "start_time": "2024-09-12T07:28:58.165864Z"
    }
   },
   "cell_type": "code",
   "source": "dist = dist_step.clone()",
   "id": "6b46c11aa49969fb",
   "outputs": [],
   "execution_count": 10
  },
  {
   "metadata": {},
   "cell_type": "code",
   "outputs": [],
   "execution_count": null,
   "source": "",
   "id": "95fa60ea3d4b929e"
  }
 ],
 "metadata": {
  "kernelspec": {
   "display_name": "Python 3",
   "language": "python",
   "name": "python3"
  },
  "language_info": {
   "codemirror_mode": {
    "name": "ipython",
    "version": 2
   },
   "file_extension": ".py",
   "mimetype": "text/x-python",
   "name": "python",
   "nbconvert_exporter": "python",
   "pygments_lexer": "ipython2",
   "version": "2.7.6"
  }
 },
 "nbformat": 4,
 "nbformat_minor": 5
}
