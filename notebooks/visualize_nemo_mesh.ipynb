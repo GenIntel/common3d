{
 "cells": [
  {
   "cell_type": "code",
   "execution_count": 4,
   "metadata": {},
   "outputs": [
    {
     "name": "stdout",
     "output_type": "stream",
     "text": [
      "Jupyter environment detected. Enabling Open3D WebVisualizer.\n",
      "[Open3D INFO] WebRTC GUI backend enabled.\n",
      "[Open3D INFO] WebRTCWindowSystem: HTTP handshake server disabled.\n"
     ]
    }
   ],
   "source": [
    "import torch\n",
    "import od3d.io\n",
    "from od3d.cv.geometry.mesh import Meshes\n",
    "from od3d.cv.visual.show import  show_scene2d , show_scene,show_imgs\n",
    "from od3d.cv.cluster.embed import tsne, pca\n"
   ]
  },
  {
   "cell_type": "code",
   "execution_count": 14,
   "metadata": {},
   "outputs": [],
   "source": [
    "ckpt_path2 = \"/home/heisenberg/Thesis_repo/exps_remote/03-07_14-39-24_Pascal3D_NeMo_torque/nemo.ckpt\" # moving average without head\n",
    "ckpt_path1 = \"/home/heisenberg/Thesis_repo/exps_remote/03-10_22-30-31_Pascal3D_NeMo_torque/nemo.ckpt\" # moving average with head with mesh feats updated\n",
    "#ckpt_path2 = \"/home/heisenberg/Thesis_repo/exps_remote/03-09_18-59-01_Pascal3D_NeMo_torque/nemo.ckpt\" # loss gradient with head"
   ]
  },
  {
   "cell_type": "code",
   "execution_count": 15,
   "metadata": {},
   "outputs": [],
   "source": [
    "checkpoint1 = torch.load(ckpt_path1, map_location='cpu')\n",
    "checkpoint2 = torch.load(ckpt_path2, map_location='cpu')"
   ]
  },
  {
   "cell_type": "code",
   "execution_count": 19,
   "metadata": {},
   "outputs": [
    {
     "data": {
      "text/plain": [
       "Parameter containing:\n",
       "tensor([[-8.5512e-02, -3.9336e-02, -2.4450e-01,  1.3426e-02, -1.1178e-02,\n",
       "         -5.3613e-02, -5.7601e-02, -3.0369e-02, -9.9373e-02, -3.3583e-02,\n",
       "         -1.5454e-01,  2.0951e-01,  2.8824e-02, -1.7034e-02,  1.1899e-01,\n",
       "          1.0931e-01, -1.1750e-02,  1.1254e-01,  1.3274e-01,  9.8071e-02,\n",
       "         -4.5697e-02, -1.3173e-01, -6.6995e-02, -1.1997e-01,  6.4449e-03,\n",
       "         -6.8495e-04,  1.7543e-01,  6.3605e-02, -7.2086e-03, -7.7431e-02,\n",
       "          1.2491e-01, -2.6627e-02, -5.5167e-02, -3.0357e-02, -8.4027e-02,\n",
       "         -7.4532e-02, -6.8496e-02, -4.6596e-03,  5.0260e-02,  1.4011e-01,\n",
       "          1.3059e-03,  4.1912e-02,  1.5120e-01,  6.5882e-02, -1.6699e-02,\n",
       "          9.4812e-02, -1.3522e-01, -6.9857e-02, -1.6983e-02,  3.5363e-02,\n",
       "          3.6231e-02, -7.6749e-03,  8.2965e-02, -1.0286e-01,  1.0325e-02,\n",
       "          4.4971e-02, -5.0858e-02, -2.9879e-02, -5.0576e-02,  8.3683e-02,\n",
       "          2.6235e-02,  1.1193e-02,  4.3740e-02, -1.0009e-01, -3.0931e-03,\n",
       "         -9.0023e-02,  8.8403e-02, -1.0907e-01, -9.3072e-02,  1.0727e-02,\n",
       "          6.3364e-02, -3.8138e-02, -6.2314e-02, -4.9980e-02,  6.3797e-02,\n",
       "         -1.4350e-01,  3.5191e-02, -4.0304e-03,  3.3268e-02, -4.6633e-02,\n",
       "         -2.8717e-02,  7.0687e-02, -2.8944e-01,  3.2314e-02, -2.5535e-03,\n",
       "          1.3362e-01, -2.5623e-04,  1.7562e-02,  2.0729e-02, -2.1529e-02,\n",
       "          8.9832e-02,  1.5512e-01,  1.2435e-02,  4.8516e-02,  1.0819e-01,\n",
       "         -8.8380e-02, -7.9253e-03, -1.3850e-01, -8.3912e-02, -4.1841e-02,\n",
       "          6.1196e-03, -3.5494e-03,  5.4005e-02,  8.1802e-02, -1.4933e-01,\n",
       "          4.1476e-02,  6.7886e-02, -7.8209e-02,  6.0918e-02, -3.2868e-02,\n",
       "         -1.7670e-01, -1.5583e-02,  1.7543e-01,  4.7468e-02,  1.0174e-01,\n",
       "         -1.2863e-01, -2.4275e-02, -1.3344e-01,  1.4284e-01,  1.1268e-03,\n",
       "          1.9824e-01, -8.5674e-02,  1.5637e-01, -2.3590e-02, -8.3427e-02,\n",
       "         -1.9681e-02, -3.0655e-02, -1.8705e-02]], requires_grad=True)"
      ]
     },
     "execution_count": 19,
     "metadata": {},
     "output_type": "execute_result"
    }
   ],
   "source": [
    "checkpoint2['clutter_feats']"
   ]
  },
  {
   "cell_type": "code",
   "execution_count": 17,
   "metadata": {},
   "outputs": [
    {
     "data": {
      "text/plain": [
       "True"
      ]
     },
     "execution_count": 17,
     "metadata": {},
     "output_type": "execute_result"
    }
   ],
   "source": [
    "torch.equal(checkpoint1['clutter_feats'],checkpoint2['clutter_feats'])"
   ]
  },
  {
   "cell_type": "code",
   "execution_count": null,
   "metadata": {},
   "outputs": [],
   "source": [
    "tensor_mesh = torch.nn.Parameter(torch.rand(3, 3))\n",
    "tensor_new = torch.rand(3, 3)\n",
    "tensor3_bank = tensor_mesh\n",
    "tensor3_bank.data = tensor_new\n",
    "\n"
   ]
  },
  {
   "cell_type": "code",
   "execution_count": null,
   "metadata": {},
   "outputs": [],
   "source": [
    "tensor3_bank"
   ]
  },
  {
   "cell_type": "code",
   "execution_count": null,
   "metadata": {},
   "outputs": [],
   "source": [
    "tensor_new"
   ]
  },
  {
   "cell_type": "code",
   "execution_count": null,
   "metadata": {},
   "outputs": [],
   "source": [
    "tensor_mesh"
   ]
  },
  {
   "cell_type": "code",
   "execution_count": null,
   "metadata": {},
   "outputs": [],
   "source": [
    "benchmark = \"pascal3d_nemo_dino\"\n",
    "ckpt_path = \"/home/heisenberg/Thesis_repo/exps_remote/03-07_14-39-24_Pascal3D_NeMo_torque/nemo.ckpt\""
   ]
  },
  {
   "cell_type": "code",
   "execution_count": null,
   "metadata": {},
   "outputs": [],
   "source": [
    "checkpoint = torch.load(ckpt_path)"
   ]
  },
  {
   "cell_type": "code",
   "execution_count": null,
   "metadata": {},
   "outputs": [],
   "source": [
    "cfgs = [od3d.io.load_hierarchical_config(benchmark=benchmark, platform=\"local\")]"
   ]
  },
  {
   "cell_type": "code",
   "execution_count": null,
   "metadata": {},
   "outputs": [],
   "source": [
    "methods_cfgs = []\n",
    "for i, cfg in enumerate(cfgs):\n",
    "        #logger.info(f'{i} of {len(cfgs)}')\n",
    "        methods_keys = cfg.method.keys()\n",
    "        for key in methods_keys:\n",
    "            method_cfg = cfg.copy()\n",
    "            method_cfg.method = cfg.method[key]\n",
    "            method_cfg_exists = False\n",
    "            for prev_method_cfg in methods_cfgs:\n",
    "                if method_cfg == prev_method_cfg:\n",
    "                    method_cfg_exists = True\n",
    "            if not method_cfg_exists:\n",
    "                methods_cfgs.append(method_cfg)\n",
    "\n",
    "print(f\"{len(methods_cfgs)} configs with single method.\")"
   ]
  },
  {
   "cell_type": "code",
   "execution_count": null,
   "metadata": {},
   "outputs": [],
   "source": [
    "methods_cfgs\n",
    "method_config = methods_cfgs[0].method"
   ]
  },
  {
   "cell_type": "code",
   "execution_count": null,
   "metadata": {},
   "outputs": [],
   "source": [
    "fpaths_meshes = [method_config.fpaths_meshes[cls] for cls in method_config.categories]\n",
    "meshes = Meshes.load_from_files(fpaths_meshes=fpaths_meshes)\n",
    "    "
   ]
  },
  {
   "cell_type": "code",
   "execution_count": null,
   "metadata": {},
   "outputs": [],
   "source": [
    "meshes.set_feats_cat(checkpoint['meshes_feats'])"
   ]
  },
  {
   "cell_type": "code",
   "execution_count": null,
   "metadata": {},
   "outputs": [],
   "source": [
    "cat_borders = torch.cat([torch.LongTensor([0]).to(device=meshes.device), torch.cumsum(torch.tensor(meshes.verts_counts),dim=0)], dim=0)\n",
    "feats_all_cats =[]\n",
    "feats_all_colors =[]\n",
    "for i, cat in enumerate(method_config.categories):\n",
    "    print(f\"{cat} has {meshes.verts_counts[i]} vertices and {meshes.faces_counts[i]} faces.\")\n",
    "    #print(f\"Feats for {cat} are {len(meshes.feats[cat_borders[i]:cat_borders[i+1]])}.\")\n",
    "    feats_all_cats.extend(meshes.feats[cat_borders[i]:cat_borders[i+1]])\n",
    "    feats_all_colors.extend( i*torch.ones(meshes.verts_counts[i], dtype=torch.long))\n"
   ]
  },
  {
   "cell_type": "code",
   "execution_count": null,
   "metadata": {},
   "outputs": [],
   "source": [
    "feats_all_colors[cat_borders[1]:cat_borders[2]]"
   ]
  },
  {
   "cell_type": "code",
   "execution_count": null,
   "metadata": {},
   "outputs": [],
   "source": [
    "meshes.feats.shape"
   ]
  },
  {
   "cell_type": "code",
   "execution_count": null,
   "metadata": {},
   "outputs": [],
   "source": [
    "feats_all_cats_tsne = pca(meshes.feats, C=3)\n"
   ]
  },
  {
   "cell_type": "code",
   "execution_count": null,
   "metadata": {},
   "outputs": [],
   "source": [
    "show_scene2d([feats_all_cats_tsne,feats_all_cats_tsne], pts2d_colors=[torch.tensor(feats_all_colors),torch.tensor(feats_all_colors)])"
   ]
  },
  {
   "cell_type": "code",
   "execution_count": null,
   "metadata": {},
   "outputs": [],
   "source": [
    "show_scene(pts3d=[feats_all_cats_tsne[:]],pts3d_colors=[torch.tensor(feats_all_colors)])"
   ]
  }
 ],
 "metadata": {
  "kernelspec": {
   "display_name": "venv_od3d",
   "language": "python",
   "name": "python3"
  },
  "language_info": {
   "codemirror_mode": {
    "name": "ipython",
    "version": 3
   },
   "file_extension": ".py",
   "mimetype": "text/x-python",
   "name": "python",
   "nbconvert_exporter": "python",
   "pygments_lexer": "ipython3",
   "version": "3.8.10"
  }
 },
 "nbformat": 4,
 "nbformat_minor": 2
}
