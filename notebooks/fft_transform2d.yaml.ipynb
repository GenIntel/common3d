{
 "cells": [
  {
   "cell_type": "code",
   "id": "initial_id",
   "metadata": {
    "collapsed": true,
    "ExecuteTime": {
     "end_time": "2024-10-04T13:00:40.730367Z",
     "start_time": "2024-10-04T13:00:40.697062Z"
    }
   },
   "source": [
    "from od3d.cv.io import read_image\n",
    "from od3d.cv.visual.show import show_img, show_imgs\n",
    "from od3d.cv.visual.crop import crop\n",
    "import torch\n",
    "from pathlib import Path\n",
    "from od3d.cv.geometry.fit.phase_corr import get_corr_amax, polar_transformer, logpolar_filter, get_affine_from_imgs\n",
    "import logging\n",
    "from logging import getLogger\n",
    "logging.basicConfig(level=logging.INFO)\n",
    "logger = getLogger(__name__)\n",
    "\n",
    "\n",
    "device = 'cuda:0'\n",
    "img_a = 1 - read_image(Path('nine.png')) / 255. \n",
    "img_a = img_a[:3].to(device=device)\n",
    "H, W = img_a.shape[-2:]\n",
    "\n",
    "scale = 1.\n",
    "angle = 100.\n",
    "transl_x = 0 #-10\n",
    "transl_y = 0 # -30\n",
    "\n",
    "from kornia.geometry.transform import warp_affine, get_affine_matrix2d # (src, M\n",
    "# M = Bx2x3\n",
    "M = torch.zeros((2, 3))\n",
    "scale = torch.Tensor([scale, scale]).to(device)[None,]\n",
    "angle = torch.Tensor([angle,]).to(device)\n",
    "transl = torch.Tensor([transl_x, transl_y]).to(device)[None,]\n",
    "center = torch.Tensor([H/2, W/2]).to(device)[None,]\n",
    "M = get_affine_matrix2d(translations=transl, angle=angle, scale=scale, center=center)\n",
    "img_b = warp_affine(img_a[None,], M=M[:, :2, :3], dsize=(H, W))[0]\n",
    "\n",
    "#center = torch.Tensor([(W / 2.) + transl_x, (H / 2.) + transl_y]).to(device)\n",
    "#img_b, cam_crop_tform_cam = crop(img_a, H_out=H, W_out=W, center=center)\n",
    "img_ab = torch.stack([img_a, img_b], dim=0)\n",
    "#print(img_ab.shape)\n",
    "\n",
    "img_b_polar, _ = polar_transformer(img_b[..., None], out_size=(H, W), device=device)\n",
    "img_b_polar = img_b_polar.permute(3, 0, 1, 2)[0]\n",
    "\n",
    "img_ab = torch.stack([img_a, img_b, img_b_polar], dim=0)\n",
    "\n",
    "# show_imgs(img_ab)\n",
    "\n",
    "from od3d.cv.geometry.fit.phase_corr import get_corr_amax, polar_transformer, logpolar_filter, get_affine_from_imgs\n",
    "\n",
    "M_est = get_affine_from_imgs(img_a=img_a, img_b=img_b)\n",
    "\n",
    "logger.info(M)\n",
    "logger.info(M_est)\n",
    "\n",
    "# 130 -> -50\n",
    "# 45 -> 45\n",
    "# 20 -> 20\n",
    "# -20 -> -20\n",
    "# -45 -> -45\n",
    "# -130 -> 50"
   ],
   "outputs": [
    {
     "name": "stderr",
     "output_type": "stream",
     "text": [
      "INFO:od3d.cv.geometry.fit.phase_corr:angle tensor([ 98.8235, 278.8235], device='cuda:0'), scale tensor([[0.9808, 0.9808],\n",
      "        [0.9808, 0.9808]], device='cuda:0')\n",
      "INFO:od3d.cv.geometry.fit.phase_corr:transl_x 2, transl_y 3\n",
      "INFO:__main__:tensor([[[-1.7365e-01, -9.8481e-01,  2.7520e+02],\n",
      "         [ 9.8481e-01, -1.7365e-01,  2.4077e+01],\n",
      "         [ 0.0000e+00,  0.0000e+00,  1.0000e+00]]], device='cuda:0')\n",
      "INFO:__main__:tensor([[-1.5045e-01, -9.6919e-01,  2.7225e+02],\n",
      "        [ 9.6919e-01, -1.5045e-01,  2.6110e+01],\n",
      "        [ 0.0000e+00,  0.0000e+00,  1.0000e+00]], device='cuda:0')\n"
     ]
    }
   ],
   "execution_count": 2
  },
  {
   "metadata": {
    "ExecuteTime": {
     "end_time": "2024-10-04T13:01:20.263476Z",
     "start_time": "2024-10-04T13:01:20.220339Z"
    }
   },
   "cell_type": "code",
   "source": [
    "M_est = get_affine_from_imgs(img_a=img_a, img_b=img_b)\n",
    "\n",
    "logger.info(M)\n",
    "logger.info(M_est)"
   ],
   "id": "7cdcbc84bea5d633",
   "outputs": [
    {
     "name": "stderr",
     "output_type": "stream",
     "text": [
      "INFO:od3d.cv.geometry.fit.phase_corr:angle tensor([ 98.8235, 278.8235], device='cuda:0'), scale tensor([[0.9808, 0.9808],\n",
      "        [0.9808, 0.9808]], device='cuda:0')\n",
      "INFO:od3d.cv.geometry.fit.phase_corr:transl_x 2, transl_y 3\n",
      "INFO:__main__:tensor([[[-1.7365e-01, -9.8481e-01,  2.7520e+02],\n",
      "         [ 9.8481e-01, -1.7365e-01,  2.4077e+01],\n",
      "         [ 0.0000e+00,  0.0000e+00,  1.0000e+00]]], device='cuda:0')\n",
      "INFO:__main__:tensor([[-1.5045e-01, -9.6919e-01,  2.7225e+02],\n",
      "        [ 9.6919e-01, -1.5045e-01,  2.6110e+01],\n",
      "        [ 0.0000e+00,  0.0000e+00,  1.0000e+00]], device='cuda:0')\n"
     ]
    }
   ],
   "execution_count": 3
  },
  {
   "metadata": {
    "ExecuteTime": {
     "end_time": "2024-10-02T13:55:50.625652Z",
     "start_time": "2024-10-02T13:55:50.613609Z"
    }
   },
   "cell_type": "code",
   "source": "M",
   "id": "110ba84ebef81c4a",
   "outputs": [
    {
     "data": {
      "text/plain": [
       "tensor([[[ -0.6428,  -0.7660, 307.1261],\n",
       "         [  0.7660,  -0.6428, 111.7848],\n",
       "         [  0.0000,   0.0000,   1.0000]]], device='cuda:0')"
      ]
     },
     "execution_count": 4,
     "metadata": {},
     "output_type": "execute_result"
    }
   ],
   "execution_count": 4
  },
  {
   "metadata": {
    "ExecuteTime": {
     "end_time": "2024-10-02T10:05:07.694422Z",
     "start_time": "2024-10-02T10:05:07.669570Z"
    }
   },
   "cell_type": "code",
   "source": "get_affine_from_imgs(img_a=img_a, img_b=img_b)\n",
   "id": "afdb427ad1ffb7d2",
   "outputs": [
    {
     "data": {
      "text/plain": [
       "tensor([[ 0.4775, -0.1716, 98.4964],\n",
       "        [ 0.1716,  0.4775, 74.7455],\n",
       "        [ 0.0000,  0.0000,  1.0000]], device='cuda:0')"
      ]
     },
     "execution_count": 5,
     "metadata": {},
     "output_type": "execute_result"
    }
   ],
   "execution_count": 5
  },
  {
   "metadata": {
    "ExecuteTime": {
     "end_time": "2024-10-02T10:07:01.373184Z",
     "start_time": "2024-10-02T10:07:01.340149Z"
    }
   },
   "cell_type": "code",
   "source": "get_affine_from_imgs(img_a=img_a, img_b=img_b)\n",
   "id": "1781744d524cc6e5",
   "outputs": [
    {
     "data": {
      "text/plain": [
       "tensor([[ 0.4704, -0.1625, 99.2482],\n",
       "        [ 0.1625,  0.4704, 77.8117],\n",
       "        [ 0.0000,  0.0000,  1.0000]], device='cuda:0')"
      ]
     },
     "execution_count": 3,
     "metadata": {},
     "output_type": "execute_result"
    }
   ],
   "execution_count": 3
  },
  {
   "metadata": {
    "ExecuteTime": {
     "end_time": "2024-10-02T09:50:07.783278Z",
     "start_time": "2024-10-02T09:50:06.472564Z"
    }
   },
   "cell_type": "code",
   "source": [
    "import kornia.geometry as KG\n",
    "\n",
    "registrator = KG.ImageRegistrator('similarity').to(device=device)\n",
    "model, interm = registrator.register(img_a[None,], img_b[None,], output_intermediate_models=True)\n",
    "model"
   ],
   "id": "e46af410307e0c11",
   "outputs": [
    {
     "data": {
      "text/plain": [
       "tensor([[[ 1.1363, -0.0031,  0.0904],\n",
       "         [ 0.0031,  1.1363, -0.1098],\n",
       "         [ 0.0000,  0.0000,  1.0000]]], device='cuda:0', grad_fn=<CopySlices>)"
      ]
     },
     "execution_count": 4,
     "metadata": {},
     "output_type": "execute_result"
    }
   ],
   "execution_count": 4
  },
  {
   "metadata": {
    "ExecuteTime": {
     "end_time": "2024-10-02T09:27:32.137005Z",
     "start_time": "2024-10-02T09:27:32.099661Z"
    }
   },
   "cell_type": "code",
   "source": [
    "\n",
    "\n",
    "h = logpolar_filter((H, W)).to(device=device) #highpass((source.shape[1],source.shape[2])) # [H,W]\n",
    "\n",
    "img_a_fft = torch.view_as_real(torch.fft.fft2(img_a))\n",
    "img_a_fft = torch.sqrt(img_a_fft[..., 0]**2 + img_a_fft[..., 1]**2 + 1e-15)\n",
    "img_a_fft  = torch.fft.fftshift(img_a_fft, dim=(-2, -1))\n",
    "img_a_fft *= h[None,]\n",
    "\n",
    "img_b_fft = torch.view_as_real(torch.fft.fft2(img_b))\n",
    "img_b_fft = torch.sqrt(img_b_fft[..., 0]**2 + img_b_fft[..., 1]**2 + 1e-15)\n",
    "img_b_fft  = torch.fft.fftshift(img_b_fft, dim=(-2, -1))\n",
    "img_b_fft *= h[None,]\n",
    "\n",
    "img_a_fft_polar, img_a_fft_polar_logbase = polar_transformer(img_a_fft[..., None], out_size=(H, W), device=device)\n",
    "img_a_fft_polar = img_a_fft_polar.permute(3, 0, 1, 2)[0]\n",
    "\n",
    "img_b_fft_polar, img_b_fft_polar_logbase = polar_transformer(img_b_fft[..., None], out_size=(H, W), device=device)\n",
    "img_b_fft_polar = img_b_fft_polar.permute(3, 0, 1, 2)[0]\n",
    "\n",
    "index_corr_max_x, index_corr_max_y = get_corr_amax(img_a_fft_polar, img_b_fft_polar)\n",
    "\n",
    "angle = index_corr_max_y / (H) * 180\n",
    "scale = torch.pow(img_b_fft_polar_logbase, index_corr_max_x.float())\n",
    "\n",
    "scale = torch.Tensor([scale, scale]).to(device)[None,]\n",
    "angle = torch.Tensor([angle,]).to(device)\n",
    "transl = torch.Tensor([0, 0]).to(device)[None,]\n",
    "center = torch.Tensor([W/2, H/2]).to(device)[None,]\n",
    "M = get_affine_matrix2d(translations=transl, angle=angle, scale=scale, center=center)\n",
    "img_a_rot_scaled = warp_affine(img_a[None,], M=M[:, :2, :3], dsize=(H, W))[0]\n",
    "\n",
    "\n",
    "transl_x, transl_y = get_corr_amax(img_a_rot_scaled, img_b)\n",
    "transl = torch.Tensor([-transl_x, -transl_y]).to(device)[None,]\n",
    "M = get_affine_matrix2d(translations=transl, angle=angle, scale=scale, center=center)\n",
    "\n",
    "print(scale, angle, transl_x, transl_y)\n"
   ],
   "id": "cf63b44f09938a1f",
   "outputs": [
    {
     "name": "stdout",
     "output_type": "stream",
     "text": [
      "tensor([[0.5074, 0.5074]], device='cuda:0') tensor([19.7647], device='cuda:0') tensor(-10, device='cuda:0') tensor(-30, device='cuda:0')\n"
     ]
    }
   ],
   "execution_count": 3
  },
  {
   "metadata": {
    "ExecuteTime": {
     "end_time": "2024-10-02T08:49:42.862085Z",
     "start_time": "2024-10-02T08:49:42.821825Z"
    }
   },
   "cell_type": "code",
   "source": "img_b_fft_polar_logbase",
   "id": "4901cdc207ace109",
   "outputs": [
    {
     "ename": "NameError",
     "evalue": "name 'img_b_fft_polar_logbase' is not defined",
     "output_type": "error",
     "traceback": [
      "\u001B[0;31m---------------------------------------------------------------------------\u001B[0m",
      "\u001B[0;31mNameError\u001B[0m                                 Traceback (most recent call last)",
      "Cell \u001B[0;32mIn[9], line 1\u001B[0m\n\u001B[0;32m----> 1\u001B[0m \u001B[43mimg_b_fft_polar_logbase\u001B[49m\n",
      "\u001B[0;31mNameError\u001B[0m: name 'img_b_fft_polar_logbase' is not defined"
     ]
    }
   ],
   "execution_count": 9
  },
  {
   "metadata": {
    "ExecuteTime": {
     "end_time": "2024-10-02T08:49:55.585377Z",
     "start_time": "2024-10-02T08:49:55.574722Z"
    }
   },
   "cell_type": "code",
   "source": "",
   "id": "61581eca2deb2fd9",
   "outputs": [
    {
     "data": {
      "text/plain": [
       "(tensor(0., device='cuda:0'), tensor(1., device='cuda:0', dtype=torch.float64))"
      ]
     },
     "execution_count": 11,
     "metadata": {},
     "output_type": "execute_result"
    }
   ],
   "execution_count": 11
  },
  {
   "metadata": {
    "ExecuteTime": {
     "end_time": "2024-10-02T07:43:29.453337Z",
     "start_time": "2024-10-02T07:43:29.444971Z"
    }
   },
   "cell_type": "code",
   "source": "img_a_fft.shape",
   "id": "729cec7ec06aaca6",
   "outputs": [
    {
     "data": {
      "text/plain": [
       "torch.Size([3, 255, 255])"
      ]
     },
     "execution_count": 10,
     "metadata": {},
     "output_type": "execute_result"
    }
   ],
   "execution_count": 10
  },
  {
   "metadata": {
    "ExecuteTime": {
     "end_time": "2024-10-02T08:48:44.501796Z",
     "start_time": "2024-10-02T08:48:44.485475Z"
    }
   },
   "cell_type": "code",
   "source": [
    "\n",
    "    "
   ],
   "id": "e12a68c1d0476398",
   "outputs": [],
   "execution_count": 2
  },
  {
   "metadata": {
    "ExecuteTime": {
     "end_time": "2024-10-02T07:35:05.684522Z",
     "start_time": "2024-10-02T07:35:05.669731Z"
    }
   },
   "cell_type": "code",
   "source": "",
   "id": "d5839c8e9e8b47df",
   "outputs": [
    {
     "data": {
      "text/plain": [
       "(tensor(-10, device='cuda:0'), tensor(-30, device='cuda:0'))"
      ]
     },
     "execution_count": 4,
     "metadata": {},
     "output_type": "execute_result"
    }
   ],
   "execution_count": 4
  },
  {
   "metadata": {},
   "cell_type": "code",
   "outputs": [],
   "execution_count": null,
   "source": "z = torch.polar(abs, angle)\n",
   "id": "29ee011ff94cafe3"
  },
  {
   "metadata": {
    "ExecuteTime": {
     "end_time": "2024-10-02T08:49:13.474723Z",
     "start_time": "2024-10-02T08:49:13.438358Z"
    }
   },
   "cell_type": "code",
   "source": "",
   "id": "989fdadfe0a46711",
   "outputs": [],
   "execution_count": 7
  }
 ],
 "metadata": {
  "kernelspec": {
   "display_name": "Python 3",
   "language": "python",
   "name": "python3"
  },
  "language_info": {
   "codemirror_mode": {
    "name": "ipython",
    "version": 2
   },
   "file_extension": ".py",
   "mimetype": "text/x-python",
   "name": "python",
   "nbconvert_exporter": "python",
   "pygments_lexer": "ipython2",
   "version": "2.7.6"
  }
 },
 "nbformat": 4,
 "nbformat_minor": 5
}
